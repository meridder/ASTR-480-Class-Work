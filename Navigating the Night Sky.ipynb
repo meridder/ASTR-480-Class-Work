{
 "cells": [
  {
   "cell_type": "markdown",
   "metadata": {},
   "source": [
    "# Navigating the Night Sky"
   ]
  },
  {
   "cell_type": "code",
   "execution_count": 47,
   "metadata": {},
   "outputs": [],
   "source": [
    "import numpy as np\n",
    "import astropy\n",
    "from astropy.table import QTable\n",
    "from astroplan import Observer, FixedTarget\n",
    "import astropy.units as u\n",
    "from astropy.time import Time\n",
    "from astropy.coordinates import SkyCoord\n",
    "import pytz\n",
    "from astroplan import download_IERS_A\n",
    "from astroplan import AltitudeConstraint, AirmassConstraint, AtNightConstraint\n",
    "from astroplan import observability_table\n",
    "from astroplan import moon_illumination"
   ]
  },
  {
   "cell_type": "code",
   "execution_count": 48,
   "metadata": {},
   "outputs": [
    {
     "name": "stdout",
     "output_type": "stream",
     "text": [
      "Downloading http://maia.usno.navy.mil/ser7/finals2000A.all [Done]\n"
     ]
    }
   ],
   "source": [
    "download_IERS_A()"
   ]
  },
  {
   "cell_type": "markdown",
   "metadata": {},
   "source": [
    "## Problem 1"
   ]
  },
  {
   "cell_type": "markdown",
   "metadata": {},
   "source": [
    "All right, let's pull in the data!"
   ]
  },
  {
   "cell_type": "code",
   "execution_count": 49,
   "metadata": {},
   "outputs": [
    {
     "data": {
      "text/html": [
       "<i>QTable length=585</i>\n",
       "<table id=\"table4547287080\" class=\"table-striped table-bordered table-condensed\">\n",
       "<thead><tr><th>iau_name</th><th>alt_name</th><th>ra</th><th>dec</th><th>class</th></tr></thead>\n",
       "<thead><tr><th>str9</th><th>str16</th><th>str10</th><th>str9</th><th>str14</th></tr></thead>\n",
       "<tr><td>0454-8105</td><td>PKS 0454-81</td><td>04 50 05.0</td><td>-81 01 02</td><td>QSO RADIO LOUD</td></tr>\n",
       "<tr><td>0621-7841</td><td>PKS 0621-786</td><td>06 18 30.3</td><td>-78 43 02</td><td>QSO RADIO LOUD</td></tr>\n",
       "<tr><td>0858-7707</td><td>PKS 0858-77</td><td>08 57 42.7</td><td>-77 19 32</td><td>QSO RADIO LOUD</td></tr>\n",
       "<tr><td>0312-7703</td><td>PKS 0312-77</td><td>03 11 54.7</td><td>-76 51 52</td><td>QSO RADIO LOUD</td></tr>\n",
       "<tr><td>0202-7634</td><td>PKS 0202-76</td><td>02 02 13.0</td><td>-76 20 06</td><td>QSO RADIO LOUD</td></tr>\n",
       "<tr><td>0842-7529</td><td>PKS 0842-75</td><td>08 41 27.5</td><td>-75 40 26</td><td>QSO RADIO LOUD</td></tr>\n",
       "<tr><td>0637-7513</td><td>PKS 0637-75</td><td>06 35 46.5</td><td>-75 16 17</td><td>QSO RADIO LOUD</td></tr>\n",
       "<tr><td>2300-6823</td><td>PKS 2300-683</td><td>23 03 43.6</td><td>-68 07 37</td><td>QSO RADIO LOUD</td></tr>\n",
       "<tr><td>2111-6806</td><td>1E 2111-681</td><td>21 15 44.1</td><td>-67 54 04</td><td>QSO RADIO LOUD</td></tr>\n",
       "<tr><td>0743-6719</td><td>PKS 0743-67</td><td>07 43 31.6</td><td>-67 26 26</td><td>QSO RADIO LOUD</td></tr>\n",
       "<tr><td>...</td><td>...</td><td>...</td><td>...</td><td>...</td></tr>\n",
       "<tr><td>1221+7553</td><td>1221+75W1</td><td>12 23 29.3</td><td>+75 36 29</td><td>QSO RADIO LOUD</td></tr>\n",
       "<tr><td>1726+7655</td><td>S5 1726+76</td><td>17 23 59.3</td><td>+76 53 12</td><td>QSO RADIO LOUD</td></tr>\n",
       "<tr><td>1100+7715</td><td>3C 249.1</td><td>11 04 13.8</td><td>+76 58 58</td><td>QSO RADIO LOUD</td></tr>\n",
       "<tr><td>0010+7732</td><td>S5 0010+77</td><td>00 13 11.5</td><td>+77 48 47</td><td>QSO RADIO LOUD</td></tr>\n",
       "<tr><td>0438+7833</td><td>S5 0437+78</td><td>04 45 46.4</td><td>+78 38 57</td><td>QSO RADIO LOUD</td></tr>\n",
       "<tr><td>2111+8008</td><td>S5 2111+80</td><td>21 09 18.9</td><td>+80 21 11</td><td>QSO RADIO LOUD</td></tr>\n",
       "<tr><td>1039+8110</td><td>S5 1039+81</td><td>10 44 23.1</td><td>+80 54 39</td><td>QSO RADIO LOUD</td></tr>\n",
       "<tr><td>1150+8115</td><td>S5 1150+81</td><td>11 53 12.7</td><td>+80 58 30</td><td>QSO RADIO LOUD</td></tr>\n",
       "<tr><td>0014+8118</td><td>S5 0014+81</td><td>00 17 08.0</td><td>+81 35 08</td><td>QSO RADIO LOUD</td></tr>\n",
       "<tr><td>0615+8203</td><td>S5 0615+82</td><td>06 26 03.0</td><td>+82 02 25</td><td>QSO RADIO LOUD</td></tr>\n",
       "</table>"
      ],
      "text/plain": [
       "<QTable length=585>\n",
       " iau_name   alt_name       ra        dec        class     \n",
       "   str9      str16       str10       str9       str14     \n",
       "--------- ------------ ---------- --------- --------------\n",
       "0454-8105  PKS 0454-81 04 50 05.0 -81 01 02 QSO RADIO LOUD\n",
       "0621-7841 PKS 0621-786 06 18 30.3 -78 43 02 QSO RADIO LOUD\n",
       "0858-7707  PKS 0858-77 08 57 42.7 -77 19 32 QSO RADIO LOUD\n",
       "0312-7703  PKS 0312-77 03 11 54.7 -76 51 52 QSO RADIO LOUD\n",
       "0202-7634  PKS 0202-76 02 02 13.0 -76 20 06 QSO RADIO LOUD\n",
       "0842-7529  PKS 0842-75 08 41 27.5 -75 40 26 QSO RADIO LOUD\n",
       "0637-7513  PKS 0637-75 06 35 46.5 -75 16 17 QSO RADIO LOUD\n",
       "2300-6823 PKS 2300-683 23 03 43.6 -68 07 37 QSO RADIO LOUD\n",
       "2111-6806  1E 2111-681 21 15 44.1 -67 54 04 QSO RADIO LOUD\n",
       "0743-6719  PKS 0743-67 07 43 31.6 -67 26 26 QSO RADIO LOUD\n",
       "      ...          ...        ...       ...            ...\n",
       "1221+7553    1221+75W1 12 23 29.3 +75 36 29 QSO RADIO LOUD\n",
       "1726+7655   S5 1726+76 17 23 59.3 +76 53 12 QSO RADIO LOUD\n",
       "1100+7715     3C 249.1 11 04 13.8 +76 58 58 QSO RADIO LOUD\n",
       "0010+7732   S5 0010+77 00 13 11.5 +77 48 47 QSO RADIO LOUD\n",
       "0438+7833   S5 0437+78 04 45 46.4 +78 38 57 QSO RADIO LOUD\n",
       "2111+8008   S5 2111+80 21 09 18.9 +80 21 11 QSO RADIO LOUD\n",
       "1039+8110   S5 1039+81 10 44 23.1 +80 54 39 QSO RADIO LOUD\n",
       "1150+8115   S5 1150+81 11 53 12.7 +80 58 30 QSO RADIO LOUD\n",
       "0014+8118   S5 0014+81 00 17 08.0 +81 35 08 QSO RADIO LOUD\n",
       "0615+8203   S5 0615+82 06 26 03.0 +82 02 25 QSO RADIO LOUD"
      ]
     },
     "execution_count": 49,
     "metadata": {},
     "output_type": "execute_result"
    }
   ],
   "source": [
    "loud_galaxies = QTable.read('01_data.csv', format = 'ascii.csv' )\n",
    "loud_galaxies"
   ]
  },
  {
   "cell_type": "markdown",
   "metadata": {},
   "source": [
    "Beautiful. Now, we're going to set our observation location at Kitt Peak so we can later scoop out the galaxies we can actually see."
   ]
  },
  {
   "cell_type": "code",
   "execution_count": 50,
   "metadata": {},
   "outputs": [],
   "source": [
    "kitt = Observer.at_site('Kitt Peak')"
   ]
  },
  {
   "cell_type": "markdown",
   "metadata": {},
   "source": [
    "Here's the fun part. We need to define when we're observing, add constraints so that we don't get crummy data, and then skim the table to find the galaxies which fit our requirements."
   ]
  },
  {
   "cell_type": "code",
   "execution_count": 78,
   "metadata": {
    "scrolled": true
   },
   "outputs": [
    {
     "name": "stdout",
     "output_type": "stream",
     "text": [
      "The 10 most (or equally) observable Radio Loud Galaxies in the 2nd half of April: \n",
      "1. S5 1150+81 is observable for 0.3294270833333333 of the second half of April. \n",
      "2. 1221+75W1 is observable for 0.3294270833333333 of the second half of April. \n",
      "3. S5 1345+73 is observable for 0.3294270833333333 of the second half of April. \n",
      "4. S5 1520+72 is observable for 0.3294270833333333 of the second half of April. \n",
      "5. 3C 309.1 is observable for 0.3294270833333333 of the second half of April. \n",
      "6. 4C 69.18 is observable for 0.3294270833333333 of the second half of April. \n",
      "7. 4C 65.15 is observable for 0.3294270833333333 of the second half of April. \n",
      "8. S4 1435+63 is observable for 0.3294270833333333 of the second half of April. \n",
      "9. MS 14428+6344 is observable for 0.3294270833333333 of the second half of April. \n",
      "10. 4C 58.29 is observable for 0.3294270833333333 of the second half of April. \n",
      "\n"
     ]
    }
   ],
   "source": [
    "l = len(loud_galaxies)\n",
    "\n",
    "targs = []\n",
    "\n",
    "for i in range(l):\n",
    "    targs.append(FixedTarget(coord = SkyCoord(ra=(loud_galaxies[i]['ra']), dec=(loud_galaxies[i]['dec']), unit=(u.hourangle, u.deg)), name=loud_galaxies[i]['alt_name']))\n",
    "\n",
    "\n",
    "time_range = Time([\"2018-04-15 00:01\", \"2018-04-30 23:59\"])\n",
    "\n",
    "cons = [AirmassConstraint(2), AtNightConstraint.twilight_astronomical()]\n",
    "\n",
    "obs_tab = observability_table(cons, kitt, targs, time_range=time_range)\n",
    "\n",
    "obs_targs = []\n",
    "\n",
    "for i in range(len(obs_tab)):\n",
    "    if obs_tab[i]['ever observable']:\n",
    "        obs_targs.append([obs_tab[i]['target name'],obs_tab[i]['fraction of time observable']])\n",
    "\n",
    "obs_targs.sort(key=lambda x: x[1])\n",
    "\n",
    "def most_obs(n):\n",
    "    output = \"The \" + str(n) + \" most (or equally) observable Radio Loud Galaxies in the 2nd half of April: \\n\"\n",
    "    for i in range(0, n):\n",
    "        output += str(i+1) + \". \" + obs_targs[len(obs_targs)-(1+i)][0] + \" is observable for \" + str(obs_targs[len(obs_targs)-(1+i)][1]) + \" of the second half of April. \\n\"\n",
    "    return output\n",
    "\n",
    "\n",
    "print(most_obs(10))"
   ]
  },
  {
   "cell_type": "markdown",
   "metadata": {},
   "source": [
    "I love it when code works. Mama mia, that's a spicy meat-a-ball."
   ]
  },
  {
   "cell_type": "markdown",
   "metadata": {},
   "source": [
    "## Problem 2"
   ]
  },
  {
   "cell_type": "markdown",
   "metadata": {},
   "source": [
    "All right, how awful is the moon going to be? We looked at the moon illumination on the first and last day of our observing window to see how the awfulness would evolve through out that time."
   ]
  },
  {
   "cell_type": "code",
   "execution_count": 52,
   "metadata": {},
   "outputs": [
    {
     "data": {
      "text/plain": [
       "0.015518176308118248"
      ]
     },
     "execution_count": 52,
     "metadata": {},
     "output_type": "execute_result"
    }
   ],
   "source": [
    "time1 = Time(\"2018-04-15 00:01\", format='iso')\n",
    "moon_illumination(time1)"
   ]
  },
  {
   "cell_type": "markdown",
   "metadata": {},
   "source": [
    "That's nice."
   ]
  },
  {
   "cell_type": "code",
   "execution_count": 53,
   "metadata": {},
   "outputs": [
    {
     "data": {
      "text/plain": [
       "0.9884801802294492"
      ]
     },
     "execution_count": 53,
     "metadata": {},
     "output_type": "execute_result"
    }
   ],
   "source": [
    "time2 = Time(\"2018-04-30 23:59\", format='iso')\n",
    "moon_illumination(time2)"
   ]
  },
  {
   "cell_type": "markdown",
   "metadata": {},
   "source": [
    "That's not nice."
   ]
  },
  {
   "cell_type": "code",
   "execution_count": 54,
   "metadata": {},
   "outputs": [
    {
     "name": "stdout",
     "output_type": "stream",
     "text": [
      "2018-04-14 12:29:13.299\n",
      "2018-04-15 00:40:53.630\n",
      "2018-05-01 03:00:10.395\n",
      "2018-04-30 13:18:50.720\n"
     ]
    }
   ],
   "source": [
    "mrise1 = Time(kitt.moon_rise_time(time1, 'nearest'), format = 'iso')\n",
    "mset1 = Time(kitt.moon_set_time(time1, 'next'), format = 'iso')\n",
    "mrise2 = Time(kitt.moon_rise_time(time2, 'nearest'), format = 'iso')\n",
    "mset2 = Time(kitt.moon_set_time(time2, 'nearest'), format = 'iso')\n",
    "print(mrise1)\n",
    "print(mset1)\n",
    "print(mrise2)\n",
    "print(mset2)"
   ]
  },
  {
   "cell_type": "markdown",
   "metadata": {},
   "source": [
    "Well, it seems the best observations will be conducted in the first half of the window seeing as how the moon rears it's ugly head at 3:00am in the latter half of our window."
   ]
  },
  {
   "cell_type": "markdown",
   "metadata": {},
   "source": [
    "## Problem 3"
   ]
  },
  {
   "cell_type": "markdown",
   "metadata": {},
   "source": [
    "First, we'll check if the moon will be around more within our observing hours."
   ]
  },
  {
   "cell_type": "code",
   "execution_count": 55,
   "metadata": {},
   "outputs": [
    {
     "name": "stdout",
     "output_type": "stream",
     "text": [
      "2018-05-14 12:15:25.908\n",
      "2018-05-15 01:32:03.083\n",
      "2018-06-01 04:27:46.054\n",
      "2018-05-31 14:01:25.886\n"
     ]
    }
   ],
   "source": [
    "time3 = Time(\"2018-05-15 00:01\", format='iso')\n",
    "time4 = Time(\"2018-05-31 23:59\", format='iso')\n",
    "\n",
    "mrise3 = Time(kitt.moon_rise_time(time3, 'nearest'), format = 'iso')\n",
    "mset3 = Time(kitt.moon_set_time(time3, 'next'), format = 'iso')\n",
    "mrise4 = Time(kitt.moon_rise_time(time4, 'nearest'), format = 'iso')\n",
    "mset4 = Time(kitt.moon_set_time(time4, 'nearest'), format = 'iso')\n",
    "print(mrise3)\n",
    "print(mset3)\n",
    "print(mrise4)\n",
    "print(mset4)"
   ]
  },
  {
   "cell_type": "markdown",
   "metadata": {},
   "source": [
    "Not too much different from April. Is there any remarkable difference in phase?"
   ]
  },
  {
   "cell_type": "code",
   "execution_count": 56,
   "metadata": {},
   "outputs": [
    {
     "data": {
      "text/plain": [
       "0.005213023368624947"
      ]
     },
     "execution_count": 56,
     "metadata": {},
     "output_type": "execute_result"
    }
   ],
   "source": [
    "moon_illumination(time3)"
   ]
  },
  {
   "cell_type": "code",
   "execution_count": 57,
   "metadata": {},
   "outputs": [
    {
     "data": {
      "text/plain": [
       "0.9462180748295312"
      ]
     },
     "execution_count": 57,
     "metadata": {},
     "output_type": "execute_result"
    }
   ],
   "source": [
    "moon_illumination(time4)"
   ]
  },
  {
   "cell_type": "markdown",
   "metadata": {},
   "source": [
    "Hey, it's even better in the first half of hour observing window than last month! Let's take a gander at whether or not our top ten are still our top ten..."
   ]
  },
  {
   "cell_type": "code",
   "execution_count": 62,
   "metadata": {},
   "outputs": [
    {
     "name": "stdout",
     "output_type": "stream",
     "text": [
      "The 10 most (or equally) observable Radio Loud Galaxies in the 2nd half of May: \n",
      "1. S5 1726+76 is observable for 0.2867647058823529 of the second half of April. \n",
      "2. S5 1345+73 is observable for 0.2867647058823529 of the second half of April. \n",
      "3. S5 1520+72 is observable for 0.2867647058823529 of the second half of April. \n",
      "4. 3C 309.1 is observable for 0.2867647058823529 of the second half of April. \n",
      "5. 4C +69.21 is observable for 0.2867647058823529 of the second half of April. \n",
      "6. 4C 69.18 is observable for 0.2867647058823529 of the second half of April. \n",
      "7. S4 1716+68 is observable for 0.2867647058823529 of the second half of April. \n",
      "8. EF B1753+6543 is observable for 0.2867647058823529 of the second half of April. \n",
      "9. 4C 65.21 is observable for 0.2867647058823529 of the second half of April. \n",
      "10. S4 1435+63 is observable for 0.2867647058823529 of the second half of April. \n",
      "\n"
     ]
    }
   ],
   "source": [
    "for i in range(l):\n",
    "    targs.append(FixedTarget(coord=SkyCoord(ra=(loud_galaxies[i]['ra']), dec=(loud_galaxies[i]['dec']), unit=(u.hourangle, u.deg)), name=loud_galaxies[i]['alt_name']))\n",
    "\n",
    "\n",
    "time_range2 = Time([\"2018-05-15 00:01\", \"2018-05-31 23:59\"])\n",
    "\n",
    "obs_tab2 = observability_table(cons, kitt, targs, time_range=time_range2)\n",
    "\n",
    "obs_targs2 = []\n",
    "\n",
    "for i in range(len(obs_tab2)):\n",
    "    if obs_tab2[i]['ever observable']:\n",
    "        obs_targs2.append([obs_tab2[i]['target name'],obs_tab2[i]['fraction of time observable']])\n",
    "\n",
    "obs_targs2.sort(key=lambda x: x[1])\n",
    "\n",
    "def most_obs(n):\n",
    "    output = \"The \" + str(n) + \" most (or equally) observable Radio Loud Galaxies in the 2nd half of May: \\n\"\n",
    "    for i in range(0, n):\n",
    "        output += str(i+1) + \". \" + obs_targs2[len(obs_targs2)-(1+i)][0] + \" is observable for \" + str(obs_targs2[len(obs_targs2)-(1+i)][1]) + \" of the second half of April. \\n\"\n",
    "    return output\n",
    "\n",
    "\n",
    "print(most_obs(10))"
   ]
  },
  {
   "cell_type": "markdown",
   "metadata": {},
   "source": [
    "Yikes. Notice that the amount of time these are observable are down by 4% of the top 10 in April. The ones we're looking for are doing even worse."
   ]
  }
 ],
 "metadata": {
  "kernelspec": {
   "display_name": "Python 3",
   "language": "python",
   "name": "python3"
  },
  "language_info": {
   "codemirror_mode": {
    "name": "ipython",
    "version": 3
   },
   "file_extension": ".py",
   "mimetype": "text/x-python",
   "name": "python",
   "nbconvert_exporter": "python",
   "pygments_lexer": "ipython3",
   "version": "3.6.3"
  }
 },
 "nbformat": 4,
 "nbformat_minor": 2
}
