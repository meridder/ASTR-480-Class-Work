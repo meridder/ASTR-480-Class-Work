{
 "cells": [
  {
   "cell_type": "code",
   "execution_count": 19,
   "metadata": {},
   "outputs": [],
   "source": [
    "import numpy as np\n",
    "import astropy\n",
    "from astropy.table import QTable\n",
    "from astroplan import Observer, FixedTarget\n",
    "import astropy.units as u\n",
    "from astropy.time import Time\n",
    "from astropy.coordinates import SkyCoord\n",
    "import pytz\n",
    "from astroplan import download_IERS_A"
   ]
  },
  {
   "cell_type": "code",
   "execution_count": 20,
   "metadata": {},
   "outputs": [
    {
     "name": "stdout",
     "output_type": "stream",
     "text": [
      "Downloading http://maia.usno.navy.mil/ser7/finals2000A.all [Done]\n"
     ]
    }
   ],
   "source": [
    "download_IERS_A()"
   ]
  },
  {
   "cell_type": "code",
   "execution_count": 21,
   "metadata": {},
   "outputs": [
    {
     "data": {
      "text/html": [
       "<i>QTable length=585</i>\n",
       "<table id=\"table90668573136\" class=\"table-striped table-bordered table-condensed\">\n",
       "<thead><tr><th>iau_name</th><th>alt_name</th><th>ra</th><th>dec</th><th>class</th></tr></thead>\n",
       "<thead><tr><th>str9</th><th>str16</th><th>str10</th><th>str9</th><th>str14</th></tr></thead>\n",
       "<tr><td>0454-8105</td><td>PKS 0454-81</td><td>04 50 05.0</td><td>-81 01 02</td><td>QSO RADIO LOUD</td></tr>\n",
       "<tr><td>0621-7841</td><td>PKS 0621-786</td><td>06 18 30.3</td><td>-78 43 02</td><td>QSO RADIO LOUD</td></tr>\n",
       "<tr><td>0858-7707</td><td>PKS 0858-77</td><td>08 57 42.7</td><td>-77 19 32</td><td>QSO RADIO LOUD</td></tr>\n",
       "<tr><td>0312-7703</td><td>PKS 0312-77</td><td>03 11 54.7</td><td>-76 51 52</td><td>QSO RADIO LOUD</td></tr>\n",
       "<tr><td>0202-7634</td><td>PKS 0202-76</td><td>02 02 13.0</td><td>-76 20 06</td><td>QSO RADIO LOUD</td></tr>\n",
       "<tr><td>0842-7529</td><td>PKS 0842-75</td><td>08 41 27.5</td><td>-75 40 26</td><td>QSO RADIO LOUD</td></tr>\n",
       "<tr><td>0637-7513</td><td>PKS 0637-75</td><td>06 35 46.5</td><td>-75 16 17</td><td>QSO RADIO LOUD</td></tr>\n",
       "<tr><td>2300-6823</td><td>PKS 2300-683</td><td>23 03 43.6</td><td>-68 07 37</td><td>QSO RADIO LOUD</td></tr>\n",
       "<tr><td>2111-6806</td><td>1E 2111-681</td><td>21 15 44.1</td><td>-67 54 04</td><td>QSO RADIO LOUD</td></tr>\n",
       "<tr><td>0743-6719</td><td>PKS 0743-67</td><td>07 43 31.6</td><td>-67 26 26</td><td>QSO RADIO LOUD</td></tr>\n",
       "<tr><td>...</td><td>...</td><td>...</td><td>...</td><td>...</td></tr>\n",
       "<tr><td>1221+7553</td><td>1221+75W1</td><td>12 23 29.3</td><td>+75 36 29</td><td>QSO RADIO LOUD</td></tr>\n",
       "<tr><td>1726+7655</td><td>S5 1726+76</td><td>17 23 59.3</td><td>+76 53 12</td><td>QSO RADIO LOUD</td></tr>\n",
       "<tr><td>1100+7715</td><td>3C 249.1</td><td>11 04 13.8</td><td>+76 58 58</td><td>QSO RADIO LOUD</td></tr>\n",
       "<tr><td>0010+7732</td><td>S5 0010+77</td><td>00 13 11.5</td><td>+77 48 47</td><td>QSO RADIO LOUD</td></tr>\n",
       "<tr><td>0438+7833</td><td>S5 0437+78</td><td>04 45 46.4</td><td>+78 38 57</td><td>QSO RADIO LOUD</td></tr>\n",
       "<tr><td>2111+8008</td><td>S5 2111+80</td><td>21 09 18.9</td><td>+80 21 11</td><td>QSO RADIO LOUD</td></tr>\n",
       "<tr><td>1039+8110</td><td>S5 1039+81</td><td>10 44 23.1</td><td>+80 54 39</td><td>QSO RADIO LOUD</td></tr>\n",
       "<tr><td>1150+8115</td><td>S5 1150+81</td><td>11 53 12.7</td><td>+80 58 30</td><td>QSO RADIO LOUD</td></tr>\n",
       "<tr><td>0014+8118</td><td>S5 0014+81</td><td>00 17 08.0</td><td>+81 35 08</td><td>QSO RADIO LOUD</td></tr>\n",
       "<tr><td>0615+8203</td><td>S5 0615+82</td><td>06 26 03.0</td><td>+82 02 25</td><td>QSO RADIO LOUD</td></tr>\n",
       "</table>"
      ],
      "text/plain": [
       "<QTable length=585>\n",
       " iau_name   alt_name       ra        dec        class     \n",
       "   str9      str16       str10       str9       str14     \n",
       "--------- ------------ ---------- --------- --------------\n",
       "0454-8105  PKS 0454-81 04 50 05.0 -81 01 02 QSO RADIO LOUD\n",
       "0621-7841 PKS 0621-786 06 18 30.3 -78 43 02 QSO RADIO LOUD\n",
       "0858-7707  PKS 0858-77 08 57 42.7 -77 19 32 QSO RADIO LOUD\n",
       "0312-7703  PKS 0312-77 03 11 54.7 -76 51 52 QSO RADIO LOUD\n",
       "0202-7634  PKS 0202-76 02 02 13.0 -76 20 06 QSO RADIO LOUD\n",
       "0842-7529  PKS 0842-75 08 41 27.5 -75 40 26 QSO RADIO LOUD\n",
       "0637-7513  PKS 0637-75 06 35 46.5 -75 16 17 QSO RADIO LOUD\n",
       "2300-6823 PKS 2300-683 23 03 43.6 -68 07 37 QSO RADIO LOUD\n",
       "2111-6806  1E 2111-681 21 15 44.1 -67 54 04 QSO RADIO LOUD\n",
       "0743-6719  PKS 0743-67 07 43 31.6 -67 26 26 QSO RADIO LOUD\n",
       "      ...          ...        ...       ...            ...\n",
       "1221+7553    1221+75W1 12 23 29.3 +75 36 29 QSO RADIO LOUD\n",
       "1726+7655   S5 1726+76 17 23 59.3 +76 53 12 QSO RADIO LOUD\n",
       "1100+7715     3C 249.1 11 04 13.8 +76 58 58 QSO RADIO LOUD\n",
       "0010+7732   S5 0010+77 00 13 11.5 +77 48 47 QSO RADIO LOUD\n",
       "0438+7833   S5 0437+78 04 45 46.4 +78 38 57 QSO RADIO LOUD\n",
       "2111+8008   S5 2111+80 21 09 18.9 +80 21 11 QSO RADIO LOUD\n",
       "1039+8110   S5 1039+81 10 44 23.1 +80 54 39 QSO RADIO LOUD\n",
       "1150+8115   S5 1150+81 11 53 12.7 +80 58 30 QSO RADIO LOUD\n",
       "0014+8118   S5 0014+81 00 17 08.0 +81 35 08 QSO RADIO LOUD\n",
       "0615+8203   S5 0615+82 06 26 03.0 +82 02 25 QSO RADIO LOUD"
      ]
     },
     "execution_count": 21,
     "metadata": {},
     "output_type": "execute_result"
    }
   ],
   "source": [
    "loud_galaxies = QTable.read('01_data.csv', format = 'ascii.csv' )\n",
    "loud_galaxies"
   ]
  },
  {
   "cell_type": "code",
   "execution_count": 16,
   "metadata": {},
   "outputs": [
    {
     "name": "stdout",
     "output_type": "stream",
     "text": [
      "Downloading http://data.astropy.org/coordinates/sites.json [Done]\n"
     ]
    }
   ],
   "source": [
    "kitt = Observer.at_site('Kitt Peak')"
   ]
  },
  {
   "cell_type": "code",
   "execution_count": 17,
   "metadata": {},
   "outputs": [
    {
     "data": {
      "text/plain": [
       "<Observer: name='Kitt Peak',\n",
       "    location (lon, lat, el)=(-111.6 deg, 31.963333333333342 deg, 2119.999999997953 m),\n",
       "    timezone=<UTC>>"
      ]
     },
     "execution_count": 17,
     "metadata": {},
     "output_type": "execute_result"
    }
   ],
   "source": [
    "kitt"
   ]
  },
  {
   "cell_type": "code",
   "execution_count": null,
   "metadata": {},
   "outputs": [],
   "source": []
  }
 ],
 "metadata": {
  "kernelspec": {
   "display_name": "Python 3",
   "language": "python",
   "name": "python3"
  },
  "language_info": {
   "codemirror_mode": {
    "name": "ipython",
    "version": 3
   },
   "file_extension": ".py",
   "mimetype": "text/x-python",
   "name": "python",
   "nbconvert_exporter": "python",
   "pygments_lexer": "ipython3",
   "version": "3.6.3"
  }
 },
 "nbformat": 4,
 "nbformat_minor": 2
}
